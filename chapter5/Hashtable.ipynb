{
 "cells": [
  {
   "cell_type": "markdown",
   "metadata": {},
   "source": [
    "# Playing Around with HashTables\n",
    "Here we create a hash table implementation in pure python. Mainly this is just for learning, and largely I would like to recreate a lot of the same methods used in the standard python dictionaries.  \n",
    "So a few things to duplicate:\n",
    "- Closed Hashing or Open Addressing for dealing with colliosn, see the following stack overflow answers:\n",
    "  + [how-python-dict-stores-key-value-when-collision-occurs](https://stackoverflow.com/questions/21595048/how-python-dict-stores-key-value-when-collision-occurs)\n",
    "  + [why-can-a-python-dict-have-multiple-keys-with-the-same-hash](https://stackoverflow.com/questions/9010222/why-can-a-python-dict-have-multiple-keys-with-the-same-hash)\n",
    "  + [why-is-early-return-slower-than-else](https://stackoverflow.com/questions/8271139/why-is-early-return-slower-than-else)\n",
    "- Compact ordered storage, see info from following links:\n",
    "  + https://mail.python.org/pipermail/python-dev/2012-December/123028.html\n",
    "  + [faster-more-memory-efficient-and-more](https://morepypy.blogspot.com/2015/01/faster-more-memory-efficient-and-more.html)"
   ]
  },
  {
   "cell_type": "markdown",
   "metadata": {},
   "source": [
    "Apprently the Cpython implementation only uses 8 slots initially. It is then resized once it is 2/3rds full. It is my understanding that they double in size at that point."
   ]
  },
  {
   "cell_type": "markdown",
   "metadata": {},
   "source": [
    "The CPython implementation uses bitmasking instead, of the classic `hash % len(hash_table)` approach.\n",
    "[This article](https://www.data-structures-in-practice.com/hash-tables/) has a great explanation of bit masking, that helped me understand what was going on.  \n",
    "From what I understand, using the bit mask is faster than division on modern CPUs."
   ]
  },
  {
   "cell_type": "markdown",
   "metadata": {},
   "source": [
    "The following function mimics the C code ` size_t i = (size_t)hash & mask;` in the CPython dictionary implementation ([see here](https://github.com/python/cpython/blob/22415ad62555d79bd583b4a7d6a96006624a8277/Objects/dictobject.c#L867) for the code in the CPython repo)."
   ]
  },
  {
   "cell_type": "code",
   "execution_count": 8,
   "metadata": {},
   "outputs": [],
   "source": [
    "def bit_mask(i, j):\n",
    "    return int(bin(i & j), 2)"
   ]
  },
  {
   "cell_type": "code",
   "execution_count": 11,
   "metadata": {},
   "outputs": [
    {
     "name": "stdout",
     "output_type": "stream",
     "text": [
      "341 ns ± 21.2 ns per loop (mean ± std. dev. of 7 runs, 1000000 loops each)\n"
     ]
    }
   ],
   "source": [
    "%%timeit\n",
    "bit_mask(5165093096324751164, 31)\n",
    "#this is slightly faster, probably because of the funcation call overhead\n",
    "# int(bin(5165093096324751164 & 31), 2)"
   ]
  },
  {
   "cell_type": "code",
   "execution_count": 12,
   "metadata": {},
   "outputs": [
    {
     "name": "stdout",
     "output_type": "stream",
     "text": [
      "7.27 ns ± 0.487 ns per loop (mean ± std. dev. of 7 runs, 100000000 loops each)\n"
     ]
    }
   ],
   "source": [
    "%%timeit\n",
    "5165093096324751164 % 31"
   ]
  },
  {
   "cell_type": "markdown",
   "metadata": {},
   "source": [
    "This python implementation is certainly not faster than just typing out the mod operator. But in the spirit of duplicating the CPython implementation we will use it for now."
   ]
  },
  {
   "cell_type": "code",
   "execution_count": 13,
   "metadata": {},
   "outputs": [],
   "source": [
    "class Hashtable:\n",
    "    def __init__(self, size=8):\n",
    "        # Array size\n",
    "        self.size = size\n",
    "        self.sparse_key = [None] * size\n",
    "        self.data = []\n",
    "\n",
    "    def _get_index(self, hash_value):\n",
    "        return bit_mask(hash_value, self.size - 1)\n",
    "\n",
    "    def add(self, key, value):\n",
    "        \"\"\"Add a key value pair to Hashtable\"\"\"\n",
    "        # TODO: Add collision and growth\n",
    "        if (len(self.data) + 1) >= ((2 * self.size) // 3):\n",
    "            print(\"resizing...\")\n",
    "            self._doublesize()\n",
    "\n",
    "        hsh = hash(key)\n",
    "        idx = self._get_index(hsh)\n",
    "        # Check that sparse array is empty, if it is, fill it!\n",
    "        if self.sparse_key[idx] is None:\n",
    "            self.sparse_key[idx] = len(self.data)\n",
    "            self.data.append((hsh, key, value))\n",
    "\n",
    "        # If its not empty, check to see if the data is the same\n",
    "        else:\n",
    "            pos = self.sparse_key[idx]\n",
    "            val = self.data[pos]\n",
    "            # If it's the same key/hash just replace\n",
    "            if (hsh == val[0]) and (key == val[1]):\n",
    "                self.data[pos] = (hsh, key, value)\n",
    "            else:\n",
    "                self._probe()\n",
    "\n",
    "    def get(self, key):\n",
    "        hsh = hash(key)\n",
    "        idx = self._get_index(hsh)\n",
    "        pos = self.sparse_key[idx]\n",
    "        # If it's not none, make sure it's the\n",
    "        # right value\n",
    "        if pos is not None:\n",
    "            val = self.data[pos]\n",
    "            if (hsh == val[0]) and (key == val[1]):\n",
    "                return val[2]\n",
    "            else:\n",
    "                self._probe()\n",
    "        else:\n",
    "            raise KeyError(f\"The key {key} was not found.\")\n",
    "\n",
    "    def _doublesize(self):\n",
    "        \"\"\"Double the size of the table\"\"\"\n",
    "        # TODO: Make more effecient after _probe method is complete\n",
    "        self.size *= 2\n",
    "        old_data = self.data\n",
    "        self.data = []\n",
    "        self.sparse_key = [None] * self.size\n",
    "        for _, i, j in old_data:\n",
    "            self.add(i, j)\n",
    "\n",
    "    def __repr__(self):\n",
    "        s = \"\"\n",
    "        for _, i, j in self.data:\n",
    "            s += f\"{i}: {j}\\n\"\n",
    "        return s\n",
    "\n",
    "    def _probe(self):\n",
    "        print(\"You have been probed\")"
   ]
  },
  {
   "cell_type": "code",
   "execution_count": 14,
   "metadata": {},
   "outputs": [],
   "source": [
    "ht = Hashtable()"
   ]
  },
  {
   "cell_type": "code",
   "execution_count": 15,
   "metadata": {},
   "outputs": [
    {
     "data": {
      "text/plain": [
       "-1062710959628165386"
      ]
     },
     "execution_count": 15,
     "metadata": {},
     "output_type": "execute_result"
    }
   ],
   "source": [
    "hash(\"ahasd\")"
   ]
  },
  {
   "cell_type": "code",
   "execution_count": 16,
   "metadata": {},
   "outputs": [
    {
     "data": {
      "text/plain": [
       "1: 1"
      ]
     },
     "execution_count": 16,
     "metadata": {},
     "output_type": "execute_result"
    }
   ],
   "source": [
    "ht.add(\"1\", 1)\n",
    "ht"
   ]
  },
  {
   "cell_type": "code",
   "execution_count": 17,
   "metadata": {},
   "outputs": [
    {
     "data": {
      "text/plain": [
       "1: 1\n",
       "20: 20\n",
       "10: 5"
      ]
     },
     "execution_count": 17,
     "metadata": {},
     "output_type": "execute_result"
    }
   ],
   "source": [
    "ht.add(\"20\", 20)\n",
    "ht.add(\"10\", 5)\n",
    "ht"
   ]
  },
  {
   "cell_type": "code",
   "execution_count": 18,
   "metadata": {},
   "outputs": [
    {
     "data": {
      "text/plain": [
       "1: 40\n",
       "20: 20\n",
       "10: 5"
      ]
     },
     "execution_count": 18,
     "metadata": {},
     "output_type": "execute_result"
    }
   ],
   "source": [
    "ht.add(\"1\", 40)\n",
    "ht"
   ]
  },
  {
   "cell_type": "code",
   "execution_count": 19,
   "metadata": {},
   "outputs": [
    {
     "data": {
      "text/plain": [
       "40"
      ]
     },
     "execution_count": 19,
     "metadata": {},
     "output_type": "execute_result"
    }
   ],
   "source": [
    "ht.get(\"1\")"
   ]
  },
  {
   "cell_type": "code",
   "execution_count": 20,
   "metadata": {},
   "outputs": [],
   "source": [
    "ht.add(\"30\", 30)"
   ]
  },
  {
   "cell_type": "code",
   "execution_count": 21,
   "metadata": {},
   "outputs": [
    {
     "name": "stdout",
     "output_type": "stream",
     "text": [
      "resizing...\n"
     ]
    }
   ],
   "source": [
    "ht.add(\"50\", 50)"
   ]
  },
  {
   "cell_type": "code",
   "execution_count": 22,
   "metadata": {},
   "outputs": [
    {
     "data": {
      "text/plain": [
       "1: 40\n",
       "20: 20\n",
       "10: 5\n",
       "30: 30\n",
       "50: 50"
      ]
     },
     "execution_count": 22,
     "metadata": {},
     "output_type": "execute_result"
    }
   ],
   "source": [
    "ht"
   ]
  },
  {
   "cell_type": "code",
   "execution_count": 23,
   "metadata": {},
   "outputs": [
    {
     "name": "stdout",
     "output_type": "stream",
     "text": [
      "You have been probed\n",
      "You have been probed\n",
      "resizing...\n",
      "You have been probed\n",
      "You have been probed\n",
      "You have been probed\n",
      "You have been probed\n",
      "You have been probed\n",
      "You have been probed\n",
      "You have been probed\n",
      "You have been probed\n",
      "You have been probed\n",
      "You have been probed\n",
      "You have been probed\n",
      "You have been probed\n"
     ]
    }
   ],
   "source": [
    "for i in range(30):\n",
    "    ht.add(str(i), i)"
   ]
  },
  {
   "cell_type": "code",
   "execution_count": 24,
   "metadata": {},
   "outputs": [
    {
     "data": {
      "text/plain": [
       "21"
      ]
     },
     "execution_count": 24,
     "metadata": {},
     "output_type": "execute_result"
    }
   ],
   "source": [
    "ht._get_index(hash(\"1\"))"
   ]
  },
  {
   "cell_type": "code",
   "execution_count": 25,
   "metadata": {},
   "outputs": [],
   "source": [
    "ht.sparse_key[2]"
   ]
  }
 ],
 "metadata": {
  "kernelspec": {
   "display_name": "Python 3",
   "language": "python",
   "name": "python3"
  },
  "language_info": {
   "codemirror_mode": {
    "name": "ipython",
    "version": 3
   },
   "file_extension": ".py",
   "mimetype": "text/x-python",
   "name": "python",
   "nbconvert_exporter": "python",
   "pygments_lexer": "ipython3",
   "version": "3.8.5"
  }
 },
 "nbformat": 4,
 "nbformat_minor": 4
}
