{
 "cells": [
  {
   "cell_type": "markdown",
   "metadata": {},
   "source": [
    "# Playing Around with HashTables\n",
    "Here we create a hash table implementation in pure python. Mainly this is just for learning, and largely I would like to recreate a lot of the same methods used in the standard python dictionaries.  \n",
    "So a few things to duplicate:\n",
    "- Closed Hashing or Open Addressing for dealing with colliosn, see the following stack overflow answers:\n",
    "  + [how-python-dict-stores-key-value-when-collision-occurs](https://stackoverflow.com/questions/21595048/how-python-dict-stores-key-value-when-collision-occurs)\n",
    "  + [why-can-a-python-dict-have-multiple-keys-with-the-same-hash](https://stackoverflow.com/questions/9010222/why-can-a-python-dict-have-multiple-keys-with-the-same-hash)\n",
    "  + [why-is-early-return-slower-than-else](https://stackoverflow.com/questions/8271139/why-is-early-return-slower-than-else)\n",
    "- Compact ordered storage, see info from following links:\n",
    "  + https://mail.python.org/pipermail/python-dev/2012-December/123028.html\n",
    "  + [faster-more-memory-efficient-and-more](https://morepypy.blogspot.com/2015/01/faster-more-memory-efficient-and-more.html)"
   ]
  },
  {
   "cell_type": "markdown",
   "metadata": {},
   "source": [
    "Apprently the Cpython implementation only uses 8 slots initially. It is then resized once it is 2/3rds full. It is my understanding that they double in size at that point."
   ]
  },
  {
   "cell_type": "markdown",
   "metadata": {},
   "source": [
    "The CPython implementation uses bitmasking instead, of the classic `hash % len(hash_table)` approach.\n",
    "[This article](https://www.data-structures-in-practice.com/hash-tables/) has a great explanation of bit masking, that helped me understand what was going on.  \n",
    "From what I understand, using the bit mask is faster than division on modern CPUs."
   ]
  },
  {
   "cell_type": "markdown",
   "metadata": {},
   "source": [
    "Here is the link to an example of where they are using bitmasking in the CPython dictionary implementation ([see here](https://github.com/python/cpython/blob/22415ad62555d79bd583b4a7d6a96006624a8277/Objects/dictobject.c#L867) for the code in the CPython repo)."
   ]
  },
  {
   "cell_type": "code",
   "execution_count": 1,
   "metadata": {},
   "outputs": [
    {
     "name": "stdout",
     "output_type": "stream",
     "text": [
      "4.99 ns ± 0.063 ns per loop (mean ± std. dev. of 7 runs, 100000000 loops each)\n"
     ]
    }
   ],
   "source": [
    "%%timeit\n",
    "5165093096324751164 & 31"
   ]
  },
  {
   "cell_type": "code",
   "execution_count": 2,
   "metadata": {},
   "outputs": [
    {
     "name": "stdout",
     "output_type": "stream",
     "text": [
      "4.81 ns ± 0.0754 ns per loop (mean ± std. dev. of 7 runs, 100000000 loops each)\n"
     ]
    }
   ],
   "source": [
    "%%timeit\n",
    "5165093096324751164 % 31"
   ]
  },
  {
   "cell_type": "markdown",
   "metadata": {},
   "source": [
    "This this seems just as fast as the mod operator, but I think it makes sense to still use bitmasking for this example."
   ]
  },
  {
   "cell_type": "markdown",
   "metadata": {},
   "source": [
    "For the probing that happens, we want to mimic this code from the CPython source code.\n",
    "```C\n",
    "static Py_ssize_t\n",
    "lookdict_index(PyDictKeysObject *k, Py_hash_t hash, Py_ssize_t index)\n",
    "{\n",
    "    size_t mask = DK_MASK(k);\n",
    "    size_t perturb = (size_t)hash;\n",
    "    size_t i = (size_t)hash & mask;\n",
    "\n",
    "    for (;;) {\n",
    "        Py_ssize_t ix = dictkeys_get_index(k, i);\n",
    "        if (ix == index) {\n",
    "            return i;\n",
    "        }\n",
    "        if (ix == DKIX_EMPTY) {\n",
    "            return DKIX_EMPTY;\n",
    "        }\n",
    "        perturb >>= PERTURB_SHIFT;\n",
    "        i = mask & (i*5 + perturb + 1);\n",
    "    }\n",
    "    Py_UNREACHABLE();\n",
    "}\n",
    "```"
   ]
  },
  {
   "cell_type": "code",
   "execution_count": 26,
   "metadata": {},
   "outputs": [],
   "source": [
    "class Hashtable:\n",
    "    def __init__(self, size=8):\n",
    "        # Array size\n",
    "        self.size = size\n",
    "        self.sparse_key = [None] * size\n",
    "        self.data = []\n",
    "\n",
    "    def _get_index(self, hash_value):\n",
    "        return hash_value & (self.size - 2)\n",
    "\n",
    "    def add(self, key, value):\n",
    "        \"\"\"Add a key value pair to Hashtable\"\"\"\n",
    "        if (len(self.data) + 1) >= ((2 * self.size) // 3):\n",
    "            self._doublesize()\n",
    "\n",
    "        hash_value = hash(key)\n",
    "        idx = self._get_index(hash_value)\n",
    "        self._add_from_index(idx=idx, hash_value=hash_value, key=key, value=value)\n",
    "\n",
    "    def _add_from_index(self, idx, hash_value, key, value):\n",
    "        if self.sparse_key[idx] is None:\n",
    "            self.sparse_key[idx] = len(self.data)\n",
    "            self.data.append((hash_value, key, value))\n",
    "        else:\n",
    "            pos = self.sparse_key[idx]\n",
    "            val = self.data[pos]\n",
    "            # If it's the same key/hash just replace\n",
    "            if (hash_value == val[0]) and (key == val[1]):\n",
    "                self.data[pos] = (hash_value, key, value)\n",
    "            else:\n",
    "                i = self._probe_for_index(key)\n",
    "                # Treat like the probe index was the original input\n",
    "                self._add_from_index(idx=i, hash_value=hash_value, key=key, value=value)\n",
    "\n",
    "    def get(self, key):\n",
    "        hash_value = hash(key)\n",
    "        idx = self._get_index(hash_value)\n",
    "        pos = self.sparse_key[idx]\n",
    "        # If it's not none, make sure it's the\n",
    "        # right value\n",
    "        if pos is not None:\n",
    "            val = self.data[pos]\n",
    "            if (hash_value == val[0]) and (key == val[1]):\n",
    "                return val[2]\n",
    "            else:\n",
    "                i = self._probe_for_index(key)\n",
    "                pos = self.sparse_key[i]\n",
    "                if pos is not None:\n",
    "                    return self.data[pos][2]\n",
    "        if pos is None:\n",
    "            raise KeyError(f\"The key {key} was not found.\")\n",
    "\n",
    "    def _probe_for_index(self, key):\n",
    "        mask = self.size - 1\n",
    "        hash_value = hash(key)\n",
    "        perturb = hash_value\n",
    "        i = self._get_index(hash_value)\n",
    "        while True:\n",
    "            pos = self.sparse_key[i]\n",
    "            if pos is not None:\n",
    "                val = self.data[pos]\n",
    "                if (hash_value == val[0]) and (key == val[1]):\n",
    "                    return i\n",
    "            else:\n",
    "                return i\n",
    "            perturb >>= 5\n",
    "            i = mask & ((i * 5) + perturb + 1)\n",
    "\n",
    "    def _doublesize(self):\n",
    "        \"\"\"Double the size of the table\"\"\"\n",
    "        self.size *= 2\n",
    "        # old_data = self.data\n",
    "        # self.data = []\n",
    "        self.sparse_key = [None] * self.size\n",
    "        # Loop through data, and update sparse key\n",
    "        for slot in range(len(self.data)):\n",
    "            hash_value, key, _ = self.data[slot]\n",
    "            idx = self._get_index(hash_value)\n",
    "            # Because the key value pairs are unique, we will\n",
    "            # never be updating, only adding, so if it's not none probe.\n",
    "            if self.sparse_key[idx] is not None:\n",
    "                idx = self._probe_for_index(key)\n",
    "            self.sparse_key[idx] = slot\n",
    "            \n",
    "\n",
    "    def __repr__(self):\n",
    "        s = \"\"\n",
    "        for _, i, j in self.data:\n",
    "            s += f\"{i}: {j}\\n\"\n",
    "        return s"
   ]
  },
  {
   "cell_type": "code",
   "execution_count": 27,
   "metadata": {},
   "outputs": [],
   "source": [
    "ht = Hashtable()"
   ]
  },
  {
   "cell_type": "code",
   "execution_count": 28,
   "metadata": {},
   "outputs": [
    {
     "data": {
      "text/plain": [
       "1: 1"
      ]
     },
     "execution_count": 28,
     "metadata": {},
     "output_type": "execute_result"
    }
   ],
   "source": [
    "ht.add(\"1\", 1)\n",
    "ht"
   ]
  },
  {
   "cell_type": "code",
   "execution_count": 29,
   "metadata": {},
   "outputs": [
    {
     "data": {
      "text/plain": [
       "1: 1\n",
       "20: 20\n",
       "10: 5"
      ]
     },
     "execution_count": 29,
     "metadata": {},
     "output_type": "execute_result"
    }
   ],
   "source": [
    "ht.add(\"20\", 20)\n",
    "ht.add(\"10\", 5)\n",
    "ht"
   ]
  },
  {
   "cell_type": "code",
   "execution_count": 30,
   "metadata": {},
   "outputs": [
    {
     "data": {
      "text/plain": [
       "1: 40\n",
       "20: 20\n",
       "10: 5"
      ]
     },
     "execution_count": 30,
     "metadata": {},
     "output_type": "execute_result"
    }
   ],
   "source": [
    "ht.add(\"1\", 40)\n",
    "ht"
   ]
  },
  {
   "cell_type": "code",
   "execution_count": 31,
   "metadata": {},
   "outputs": [
    {
     "data": {
      "text/plain": [
       "40"
      ]
     },
     "execution_count": 31,
     "metadata": {},
     "output_type": "execute_result"
    }
   ],
   "source": [
    "ht.get(\"1\")"
   ]
  },
  {
   "cell_type": "code",
   "execution_count": 32,
   "metadata": {},
   "outputs": [],
   "source": [
    "ht.add(\"30\", 30)"
   ]
  },
  {
   "cell_type": "code",
   "execution_count": 33,
   "metadata": {},
   "outputs": [],
   "source": [
    "ht.add(\"50\", 50)"
   ]
  },
  {
   "cell_type": "code",
   "execution_count": 34,
   "metadata": {},
   "outputs": [
    {
     "data": {
      "text/plain": [
       "1: 40\n",
       "20: 20\n",
       "10: 5\n",
       "30: 30\n",
       "50: 50"
      ]
     },
     "execution_count": 34,
     "metadata": {},
     "output_type": "execute_result"
    }
   ],
   "source": [
    "ht"
   ]
  },
  {
   "cell_type": "code",
   "execution_count": 35,
   "metadata": {},
   "outputs": [
    {
     "data": {
      "text/plain": [
       "[0,\n",
       " None,\n",
       " None,\n",
       " None,\n",
       " None,\n",
       " None,\n",
       " None,\n",
       " None,\n",
       " 3,\n",
       " None,\n",
       " 2,\n",
       " None,\n",
       " 4,\n",
       " None,\n",
       " 1,\n",
       " None]"
      ]
     },
     "execution_count": 35,
     "metadata": {},
     "output_type": "execute_result"
    }
   ],
   "source": [
    "ht.sparse_key"
   ]
  },
  {
   "cell_type": "code",
   "execution_count": 36,
   "metadata": {},
   "outputs": [
    {
     "data": {
      "text/plain": [
       "50"
      ]
     },
     "execution_count": 36,
     "metadata": {},
     "output_type": "execute_result"
    }
   ],
   "source": [
    "ht.get(\"50\")"
   ]
  },
  {
   "cell_type": "code",
   "execution_count": 37,
   "metadata": {},
   "outputs": [],
   "source": [
    "ht.add(\"11\", 50)"
   ]
  },
  {
   "cell_type": "code",
   "execution_count": 38,
   "metadata": {},
   "outputs": [],
   "source": [
    "for i in range(30):\n",
    "    ht.add(str(i), i)"
   ]
  },
  {
   "cell_type": "code",
   "execution_count": 39,
   "metadata": {},
   "outputs": [
    {
     "data": {
      "text/plain": [
       "64"
      ]
     },
     "execution_count": 39,
     "metadata": {},
     "output_type": "execute_result"
    }
   ],
   "source": [
    "len(ht.sparse_key)"
   ]
  },
  {
   "cell_type": "code",
   "execution_count": 40,
   "metadata": {},
   "outputs": [
    {
     "data": {
      "text/plain": [
       "1: 1\n",
       "20: 20\n",
       "10: 10\n",
       "30: 30\n",
       "50: 50\n",
       "11: 11\n",
       "0: 0\n",
       "2: 2\n",
       "3: 3\n",
       "4: 4\n",
       "5: 5\n",
       "6: 6\n",
       "7: 7\n",
       "8: 8\n",
       "9: 9\n",
       "12: 12\n",
       "13: 13\n",
       "14: 14\n",
       "15: 15\n",
       "16: 16\n",
       "17: 17\n",
       "18: 18\n",
       "19: 19\n",
       "21: 21\n",
       "22: 22\n",
       "23: 23\n",
       "24: 24\n",
       "25: 25\n",
       "26: 26\n",
       "27: 27\n",
       "28: 28\n",
       "29: 29"
      ]
     },
     "execution_count": 40,
     "metadata": {},
     "output_type": "execute_result"
    }
   ],
   "source": [
    "for h, k, v in ht"
   ]
  },
  {
   "cell_type": "code",
   "execution_count": null,
   "metadata": {},
   "outputs": [],
   "source": []
  }
 ],
 "metadata": {
  "kernelspec": {
   "display_name": "Python 3",
   "language": "python",
   "name": "python3"
  },
  "language_info": {
   "codemirror_mode": {
    "name": "ipython",
    "version": 3
   },
   "file_extension": ".py",
   "mimetype": "text/x-python",
   "name": "python",
   "nbconvert_exporter": "python",
   "pygments_lexer": "ipython3",
   "version": "3.8.5"
  }
 },
 "nbformat": 4,
 "nbformat_minor": 4
}
