{
 "cells": [
  {
   "cell_type": "markdown",
   "metadata": {},
   "source": [
    "# Playing Around with HashTables\n",
    "Here we create a hash table implementation in pure python. Mainly this is just for learning, and largely I would like to recreate a lot of the same methods used in the standard python dictionaries.  \n",
    "So a few things to duplicate:\n",
    "- Closed Hashing or Open Addressing for dealing with colliosn, see the following stack overflow answers:\n",
    "  + [how-python-dict-stores-key-value-when-collision-occurs](https://stackoverflow.com/questions/21595048/how-python-dict-stores-key-value-when-collision-occurs)\n",
    "  + [why-can-a-python-dict-have-multiple-keys-with-the-same-hash](https://stackoverflow.com/questions/9010222/why-can-a-python-dict-have-multiple-keys-with-the-same-hash)\n",
    "  + [why-is-early-return-slower-than-else](https://stackoverflow.com/questions/8271139/why-is-early-return-slower-than-else)\n",
    "- Compact ordered storage, see info from following links:\n",
    "  + https://mail.python.org/pipermail/python-dev/2012-December/123028.html\n",
    "  + [faster-more-memory-efficient-and-more](https://morepypy.blogspot.com/2015/01/faster-more-memory-efficient-and-more.html)"
   ]
  },
  {
   "cell_type": "markdown",
   "metadata": {},
   "source": [
    "Apprently the Cpython implementation only uses 8 slots initially. It is then resized once it is 2/3rds full. It is my understanding that they double in size at that point."
   ]
  },
  {
   "cell_type": "markdown",
   "metadata": {},
   "source": [
    "The CPython implementation uses bitmasking instead, of the classic `hash % len(hash_table)` approach.\n",
    "[This article](https://www.data-structures-in-practice.com/hash-tables/) has a great explanation of bit masking, that helped me understand what was going on.  \n",
    "From what I understand, using the bit mask is faster than division on modern CPUs."
   ]
  },
  {
   "cell_type": "markdown",
   "metadata": {},
   "source": [
    "Here is the link to an example of where they are using bitmasking in the CPython dictionary implementation ([see here](https://github.com/python/cpython/blob/22415ad62555d79bd583b4a7d6a96006624a8277/Objects/dictobject.c#L867) for the code in the CPython repo)."
   ]
  },
  {
   "cell_type": "code",
   "execution_count": 1,
   "metadata": {},
   "outputs": [
    {
     "name": "stdout",
     "output_type": "stream",
     "text": [
      "4.5 ns ± 0.0151 ns per loop (mean ± std. dev. of 7 runs, 100000000 loops each)\n"
     ]
    }
   ],
   "source": [
    "%%timeit\n",
    "5165093096324751164 & 31"
   ]
  },
  {
   "cell_type": "code",
   "execution_count": 2,
   "metadata": {},
   "outputs": [
    {
     "name": "stdout",
     "output_type": "stream",
     "text": [
      "4.52 ns ± 0.0485 ns per loop (mean ± std. dev. of 7 runs, 100000000 loops each)\n"
     ]
    }
   ],
   "source": [
    "%%timeit\n",
    "5165093096324751164 % 31"
   ]
  },
  {
   "cell_type": "markdown",
   "metadata": {},
   "source": [
    "This this seems just as fast as the mod operator, but I think it makes sense to still use bitmasking for this example."
   ]
  },
  {
   "cell_type": "markdown",
   "metadata": {},
   "source": [
    "For the probing that happens, we want to mimic this code from the CPython source code.\n",
    "```C\n",
    "static Py_ssize_t\n",
    "lookdict_index(PyDictKeysObject *k, Py_hash_t hash, Py_ssize_t index)\n",
    "{\n",
    "    size_t mask = DK_MASK(k);\n",
    "    size_t perturb = (size_t)hash;\n",
    "    size_t i = (size_t)hash & mask;\n",
    "\n",
    "    for (;;) {\n",
    "        Py_ssize_t ix = dictkeys_get_index(k, i);\n",
    "        if (ix == index) {\n",
    "            return i;\n",
    "        }\n",
    "        if (ix == DKIX_EMPTY) {\n",
    "            return DKIX_EMPTY;\n",
    "        }\n",
    "        perturb >>= PERTURB_SHIFT;\n",
    "        i = mask & (i*5 + perturb + 1);\n",
    "    }\n",
    "    Py_UNREACHABLE();\n",
    "}\n",
    "```"
   ]
  },
  {
   "cell_type": "code",
   "execution_count": 3,
   "metadata": {},
   "outputs": [],
   "source": [
    "class Hashtable:\n",
    "    def __init__(self, size=8):\n",
    "        # Array size\n",
    "        self.size = size\n",
    "        self.sparse_key = [None] * size\n",
    "        self.data = []\n",
    "\n",
    "    def _get_index(self, hash_value):\n",
    "        return hash_value & (self.size - 2)\n",
    "\n",
    "    def _probe_for_index(self, key):\n",
    "        mask = self.size - 1\n",
    "        hash_value = hash(key)\n",
    "        perturb = hash_value\n",
    "        i = self._get_index(hash_value)\n",
    "        while True:\n",
    "            pos = self.sparse_key[i]\n",
    "            if pos is not None:\n",
    "                val = self.data[pos]\n",
    "                if (hash_value == val[0]) and (key == val[1]):\n",
    "                    return i\n",
    "            else:\n",
    "                return i\n",
    "            perturb >>= 5\n",
    "            i = mask & ((i * 5) + perturb + 1)\n",
    "\n",
    "    def add(self, key, value):\n",
    "        \"\"\"Add a key value pair to Hashtable\"\"\"\n",
    "        if (len(self.data) + 1) >= ((2 * self.size) // 3):\n",
    "            self._doublesize()\n",
    "\n",
    "        hash_value = hash(key)\n",
    "        idx = self._get_index(hash_value)\n",
    "        self._add_from_index(idx=idx, hash_value=hash_value, key=key, value=value)\n",
    "\n",
    "    def _add_from_index(self, idx, hash_value, key, value):\n",
    "        if self.sparse_key[idx] is None:\n",
    "            self.sparse_key[idx] = len(self.data)\n",
    "            self.data.append((hash_value, key, value))\n",
    "        else:\n",
    "            pos = self.sparse_key[idx]\n",
    "            val = self.data[pos]\n",
    "            # If it's the same key/hash just replace\n",
    "            if (hash_value == val[0]) and (key == val[1]):\n",
    "                self.data[pos] = (hash_value, key, value)\n",
    "            else:\n",
    "                i = self._probe_for_index(key)\n",
    "                # Treat like the probe index was the original input\n",
    "                self._add_from_index(idx=i, hash_value=hash_value, key=key, value=value)\n",
    "\n",
    "    def get(self, key):\n",
    "        hash_value = hash(key)\n",
    "        idx = self._get_index(hash_value)\n",
    "        pos = self.sparse_key[idx]\n",
    "        # If it's not none, make sure it's the\n",
    "        # right value\n",
    "        if pos is not None:\n",
    "            val = self.data[pos]\n",
    "            if (hash_value == val[0]) and (key == val[1]):\n",
    "                return val[2]\n",
    "            else:\n",
    "                i = self._probe_for_index(key)\n",
    "                pos = self.sparse_key[i]\n",
    "                if pos is not None:\n",
    "                    return self.data[pos][2]\n",
    "        if pos is None:\n",
    "            raise KeyError(f\"The key {key} was not found.\")\n",
    "\n",
    "    def delete(self, key):\n",
    "        # Right now we will just delete the item... and leave as none.\n",
    "        # We will add a compression method later... When to call it though...\n",
    "        hash_value = hash(key)\n",
    "        idx = self._get_index(hash_value)\n",
    "        pos = self.sparse_key[idx]\n",
    "        if pos is not None:\n",
    "            val = self.data[pos]\n",
    "            if (hash_value == val[0]) and (key == val[1]):\n",
    "                self.data[pos] = None\n",
    "                self.sparse_key[idx] = -1\n",
    "            else:\n",
    "                i = self._probe_for_index(key)\n",
    "                pos = self.sparse_key[i]\n",
    "                if pos is not None:\n",
    "                    self.data[pos] = None\n",
    "                    self.sparse_key[i] = -1\n",
    "        if pos is None:\n",
    "            raise KeyError(f\"The key {key} was not found.\")\n",
    "\n",
    "    def _doublesize(self):\n",
    "        \"\"\"Double the size of the table\"\"\"\n",
    "        self.size *= 2\n",
    "        self.sparse_key = [None] * self.size\n",
    "        # Loop through data, and update sparse key\n",
    "        for slot in range(len(self.data)):\n",
    "            dt = self.data[slot]\n",
    "            if dt is not None:\n",
    "                hash_value, key, _ = dt\n",
    "                idx = self._get_index(hash_value)\n",
    "                # Because the key value pairs are unique, we will\n",
    "                # never be updating, only adding, so if it's not none probe.\n",
    "                if self.sparse_key[idx] is not None:\n",
    "                    idx = self._probe_for_index(key)\n",
    "                self.sparse_key[idx] = slot\n",
    "        \n",
    "    @staticmethod\n",
    "    def _is_pos_valid(pos):\n",
    "        return (pos is None) or (pos < 0)\n",
    "\n",
    "    def __repr__(self):\n",
    "        s = \"\"\n",
    "        for d in self.data:\n",
    "            if d is not None:\n",
    "                _, i, j = d\n",
    "                # Not efficient, just using get here as a secondary test of that method.\n",
    "                dat = self.get(i)\n",
    "                s += f\"{i}: {j}\\n\"\n",
    "        return s"
   ]
  },
  {
   "cell_type": "code",
   "execution_count": 4,
   "metadata": {},
   "outputs": [],
   "source": [
    "ht = Hashtable()"
   ]
  },
  {
   "cell_type": "code",
   "execution_count": 5,
   "metadata": {},
   "outputs": [
    {
     "data": {
      "text/plain": [
       "1: 1"
      ]
     },
     "execution_count": 5,
     "metadata": {},
     "output_type": "execute_result"
    }
   ],
   "source": [
    "ht.add(\"1\", 1)\n",
    "ht"
   ]
  },
  {
   "cell_type": "code",
   "execution_count": 6,
   "metadata": {},
   "outputs": [
    {
     "data": {
      "text/plain": [
       "1: 1\n",
       "20: 20\n",
       "10: 5"
      ]
     },
     "execution_count": 6,
     "metadata": {},
     "output_type": "execute_result"
    }
   ],
   "source": [
    "ht.add(\"20\", 20)\n",
    "ht.add(\"10\", 5)\n",
    "ht"
   ]
  },
  {
   "cell_type": "code",
   "execution_count": 7,
   "metadata": {},
   "outputs": [
    {
     "data": {
      "text/plain": [
       "1: 40\n",
       "20: 20\n",
       "10: 5"
      ]
     },
     "execution_count": 7,
     "metadata": {},
     "output_type": "execute_result"
    }
   ],
   "source": [
    "ht.add(\"1\", 40)\n",
    "ht"
   ]
  },
  {
   "cell_type": "code",
   "execution_count": 8,
   "metadata": {},
   "outputs": [
    {
     "data": {
      "text/plain": [
       "40"
      ]
     },
     "execution_count": 8,
     "metadata": {},
     "output_type": "execute_result"
    }
   ],
   "source": [
    "ht.get(\"1\")"
   ]
  },
  {
   "cell_type": "code",
   "execution_count": 9,
   "metadata": {},
   "outputs": [],
   "source": [
    "ht.delete(\"1\")"
   ]
  },
  {
   "cell_type": "code",
   "execution_count": 10,
   "metadata": {},
   "outputs": [
    {
     "data": {
      "text/plain": [
       "20: 20\n",
       "10: 5"
      ]
     },
     "execution_count": 10,
     "metadata": {},
     "output_type": "execute_result"
    }
   ],
   "source": [
    "ht"
   ]
  },
  {
   "cell_type": "code",
   "execution_count": 11,
   "metadata": {},
   "outputs": [],
   "source": [
    "ht.add(\"30\", 30)"
   ]
  },
  {
   "cell_type": "code",
   "execution_count": 12,
   "metadata": {},
   "outputs": [],
   "source": [
    "ht.add(\"50\", 50)"
   ]
  },
  {
   "cell_type": "code",
   "execution_count": 13,
   "metadata": {},
   "outputs": [
    {
     "data": {
      "text/plain": [
       "20: 20\n",
       "10: 5\n",
       "30: 30\n",
       "50: 50"
      ]
     },
     "execution_count": 13,
     "metadata": {},
     "output_type": "execute_result"
    }
   ],
   "source": [
    "ht"
   ]
  },
  {
   "cell_type": "code",
   "execution_count": 14,
   "metadata": {},
   "outputs": [
    {
     "data": {
      "text/plain": [
       "[None,\n",
       " None,\n",
       " None,\n",
       " None,\n",
       " None,\n",
       " None,\n",
       " None,\n",
       " None,\n",
       " None,\n",
       " 4,\n",
       " 3,\n",
       " None,\n",
       " 1,\n",
       " None,\n",
       " 2,\n",
       " None]"
      ]
     },
     "execution_count": 14,
     "metadata": {},
     "output_type": "execute_result"
    }
   ],
   "source": [
    "ht.sparse_key"
   ]
  },
  {
   "cell_type": "code",
   "execution_count": 15,
   "metadata": {},
   "outputs": [
    {
     "data": {
      "text/plain": [
       "50"
      ]
     },
     "execution_count": 15,
     "metadata": {},
     "output_type": "execute_result"
    }
   ],
   "source": [
    "ht.get(\"50\")"
   ]
  },
  {
   "cell_type": "code",
   "execution_count": 16,
   "metadata": {},
   "outputs": [],
   "source": [
    "ht.add(\"11\", 50)"
   ]
  },
  {
   "cell_type": "code",
   "execution_count": 17,
   "metadata": {},
   "outputs": [],
   "source": [
    "h1 = Hashtable()\n",
    "for i in range(100):\n",
    "    h1.add(str(i), i)"
   ]
  },
  {
   "cell_type": "code",
   "execution_count": 18,
   "metadata": {},
   "outputs": [
    {
     "data": {
      "text/plain": [
       "256"
      ]
     },
     "execution_count": 18,
     "metadata": {},
     "output_type": "execute_result"
    }
   ],
   "source": [
    "len(h1.sparse_key)"
   ]
  },
  {
   "cell_type": "code",
   "execution_count": 19,
   "metadata": {},
   "outputs": [],
   "source": [
    "keys = [int(i[1]) for i in h1.data if i is not None]"
   ]
  },
  {
   "cell_type": "code",
   "execution_count": 20,
   "metadata": {},
   "outputs": [
    {
     "data": {
      "text/plain": [
       "100"
      ]
     },
     "execution_count": 20,
     "metadata": {},
     "output_type": "execute_result"
    }
   ],
   "source": [
    "len(sorted(keys))"
   ]
  },
  {
   "cell_type": "code",
   "execution_count": 21,
   "metadata": {},
   "outputs": [
    {
     "data": {
      "text/plain": [
       "True"
      ]
     },
     "execution_count": 21,
     "metadata": {},
     "output_type": "execute_result"
    }
   ],
   "source": [
    "sorted(keys) == list(range(100))"
   ]
  },
  {
   "cell_type": "code",
   "execution_count": 22,
   "metadata": {},
   "outputs": [
    {
     "data": {
      "text/plain": [
       "True"
      ]
     },
     "execution_count": 22,
     "metadata": {},
     "output_type": "execute_result"
    }
   ],
   "source": [
    "[h1.get(str(i)) for i in range(100)] == list(range(100))"
   ]
  },
  {
   "cell_type": "code",
   "execution_count": null,
   "metadata": {},
   "outputs": [],
   "source": []
  }
 ],
 "metadata": {
  "kernelspec": {
   "display_name": "Python 3",
   "language": "python",
   "name": "python3"
  },
  "language_info": {
   "codemirror_mode": {
    "name": "ipython",
    "version": 3
   },
   "file_extension": ".py",
   "mimetype": "text/x-python",
   "name": "python",
   "nbconvert_exporter": "python",
   "pygments_lexer": "ipython3",
   "version": "3.8.5"
  }
 },
 "nbformat": 4,
 "nbformat_minor": 4
}
